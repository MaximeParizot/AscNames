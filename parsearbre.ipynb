{
 "cells": [
  {
   "cell_type": "code",
   "execution_count": 82,
   "metadata": {},
   "outputs": [],
   "source": [
    "import subprocess\n",
    "def grep(str,file): \n",
    "    commande='grep '+str+' '+file\n",
    "    #print(commande)\n",
    "    res=subprocess.check_output(commande.split(' '))\n",
    "    return res.decode().split(\"\\n\")[:-1]   # dernière element à enlever car toujours un espaces blanc \n",
    "\n",
    "asc=['Phmamm','Phfumi','Cisavi','Cirobu','Moocci','Moocul','Mooccu','Boschl','Boleac','Haaura','Harore']\n",
    "vert=['Cmil','Lcha','Hsap','Mmus','Ggal','Psin']\n",
    "outgroupt=['Spur','Apla','Bbel','Blan']\n",
    "easy='OrthologyRelationships/rootedTrees_withVertebrates_Nomenclature_easy.txt'"
   ]
  },
  {
   "cell_type": "code",
   "execution_count": 14,
   "metadata": {},
   "outputs": [
    {
     "name": "stdout",
     "output_type": "stream",
     "text": [
      "Cirobu|KH.C4.53\n",
      "Cirobu|KH.C4.53\n",
      "Cirobu|KH.C4.53\n",
      "Cirobu|KH.C4.53\n",
      "Cirobu|KH.C4.53\n",
      "Cirobu|KH.C4.53\n",
      "Cirobu|KH.C4.53\n"
     ]
    }
   ],
   "source": [
    "with open('hier_1To1_all.txt') as f : \n",
    "    lines=f.readlines()\n",
    "    for line in lines : \n",
    "        if len(grep(line.split(' ')[0],'hier_1To1_all.txt'))!=1: \n",
    "            print(line.split(' ')[0])"
   ]
  },
  {
   "cell_type": "code",
   "execution_count": 83,
   "metadata": {},
   "outputs": [
    {
     "data": {
      "text/plain": [
       "70384"
      ]
     },
     "execution_count": 83,
     "metadata": {},
     "output_type": "execute_result"
    }
   ],
   "source": [
    "\n",
    "with open(easy) as f : \n",
    "        cpt=0\n",
    "        for a in asc : \n",
    "                for tree in grep(a,easy): \n",
    "                        cpt+=len(tree.split(a+'|'))-1\n",
    "cpt"
   ]
  },
  {
   "cell_type": "code",
   "execution_count": 1,
   "metadata": {},
   "outputs": [
    {
     "data": {
      "text/plain": [
       "60507"
      ]
     },
     "execution_count": 1,
     "metadata": {},
     "output_type": "execute_result"
    }
   ],
   "source": [
    "human='Outputs/1To1_human.txt'\n",
    "vertnh='Outputs/1To1_vertnh.txt'\n",
    "with open(human) as h,open(vertnh) as v : \n",
    "    asc_gene=[]\n",
    "    lines=h.readlines()\n",
    "    current=''\n",
    "    for line in lines : \n",
    "        if line.split(' ')[0]!=current :\n",
    "            current=line.split(' ')[0]\n",
    "            asc_gene.append(current)\n",
    "    lines=v.readlines()\n",
    "    for line in lines : \n",
    "        if line.split(' ')[0]!=current :\n",
    "            current=line.split(' ')[0]\n",
    "            asc_gene.append(current)\n",
    "len(asc_gene)\n"
   ]
  },
  {
   "cell_type": "code",
   "execution_count": 2,
   "metadata": {},
   "outputs": [
    {
     "data": {
      "text/plain": [
       "33180"
      ]
     },
     "execution_count": 2,
     "metadata": {},
     "output_type": "execute_result"
    }
   ],
   "source": [
    "file='Outputs/1To1_all.txt'\n",
    "with open(file) as f:\n",
    "    asc_gene=[]\n",
    "    lines=f.readlines()\n",
    "    current=''\n",
    "    for line in lines : \n",
    "        if line.split(' ')[0]!=current :\n",
    "            current=line.split(' ')[0]\n",
    "            asc_gene.append(current)\n",
    "len(asc_gene)\n"
   ]
  },
  {
   "cell_type": "code",
   "execution_count": 6,
   "metadata": {},
   "outputs": [
    {
     "data": {
      "text/plain": [
       "57635"
      ]
     },
     "execution_count": 6,
     "metadata": {},
     "output_type": "execute_result"
    }
   ],
   "source": [
    "\"\"\"cpt=0\n",
    "for gene in asc_gene : \n",
    "    try : \n",
    "        grep(gene,easy)\n",
    "        cpt+=1\n",
    "    except subprocess.CalledProcessError : \n",
    "        cpt+=0\n",
    "cpt\"\"\"\n",
    "57635 # 20 min d'ececution "
   ]
  },
  {
   "cell_type": "code",
   "execution_count": 22,
   "metadata": {},
   "outputs": [
    {
     "data": {
      "text/plain": [
       "64219"
      ]
     },
     "execution_count": 22,
     "metadata": {},
     "output_type": "execute_result"
    }
   ],
   "source": [
    "len(asc_gene)"
   ]
  },
  {
   "cell_type": "code",
   "execution_count": 23,
   "metadata": {},
   "outputs": [],
   "source": [
    "#all='OrthologyRelationships/rootedTrees_withVertebrates.txt'\n",
    "for gene in asc_gene : \n",
    "    try : \n",
    "        grep(gene,all)\n",
    "        cpt+=1\n",
    "    except subprocess.CalledProcessError : \n",
    "        print(gene)"
   ]
  },
  {
   "cell_type": "code",
   "execution_count": 20,
   "metadata": {},
   "outputs": [
    {
     "data": {
      "text/plain": [
       "60507"
      ]
     },
     "execution_count": 20,
     "metadata": {},
     "output_type": "execute_result"
    }
   ],
   "source": [
    "cpt-57635"
   ]
  },
  {
   "cell_type": "code",
   "execution_count": 87,
   "metadata": {},
   "outputs": [
    {
     "data": {
      "text/plain": [
       "['(((((Spur|SPU_011978:0.372719,Apla|Apla.110973372:0.39682)100:0.207953,((Bbel|Bbel.109478356:0.0416426,Blan|BL10432_evm1:0.0281578)100:0.47999,((((Mmus|ENSMUSG00000028024.14:0.139545,Hsap|ENSG00000138792.9:0.104916)100:0.169782,((Psin|ENSPSIG00000002492.1:0.186096,Psin|ENSPSIG00000002521.1:0.0285953)100:0.0976085,Ggal|ENSGALG00000012108.4:0.165825)90:0.0537825)76:0.0495829,(Lcha|ENSLACG00000002781:0.323642,Cmil|SINCAMG00000015293:0.316518)58:0.0242354)100:0.348294,((Moocul|Moocul.CG.ELv1_2.S42447.g02191_Hsap/ENSG00000138792.9@a:0.653533,((Phmamm|Phmamm.CG.MTP2014.S1144.g13864_Hsap/ENSG00000138792.9@a:0.200245,(Cirobu|KH.C12.644.v2.A.ND2-1_Hsap/ENSG00000138792.9:0.214593,(Phmamm|Phmamm.CG.MTP2014.S1144.g13863_Hsap/ENSG00000138792.9@b:0.0827105,Phfumi|Phfumi.CG.MTP2014.S5297.g06854_Hsap/ENSG00000138792.9:0.0416003)100:0.164033)83:0.0469822)99:0.131863,((Boschl|Boschl.CG.Botznik2013.chrUn.g41800_Hsap/ENSG00000138792.9@a:0.330913,((Boleac|Boleac.CG.SB_v3.S19.g04210_Hsap/ENSG00000138792.9@a:0.123323,Boleac|Boleac.CG.SB_v3.S19.g04211_Hsap/ENSG00000138792.9@b:0.156748)95:0.119545,(Boschl|Boschl.CG.Botznik2013.chrUn.g38815_Hsap/ENSG00000138792.9@b:0.00452671,Boschl|Boschl.CG.Botznik2013.chrUn.g26565_Hsap/ENSG00000138792.9@c:0.188563)91:0.120647)63:0.0599914)97:0.113794,(Boschl|Boschl.CG.Botznik2013.chr10.g25304_Hsap/ENSG00000138792.9@d:1e-06,Boschl|Boschl.CG.Botznik2013.chrUn.g69414_Hsap/ENSG00000138792.9@e:0.298347)100:0.420156)99:0.1534)62:0.056594)55:0.0698614,Moocul|Moocul.CG.ELv1_2.S97294.g08234_Hsap/ENSG00000138792.9@b:0.757675)100:0.128592)100:0.145324)75:0.0773958)100:0.164948,(((((Lcha|ENSLACG00000001492:0.148156,((Ggal|ENSGALG00000014684.4:0.183549,Psin|ENSPSIG00000007224.1:0.0796602)99:0.0611863,(Hsap|ENSG00000164307.12:0.0626498,Mmus|ENSMUSG00000021583.7:0.0836188)100:0.148471)82:0.0560119)100:0.220891,(((Lcha|ENSLACG00000003032:0.143475,Psin|ENSPSIG00000009185.1:0.174609)86:0.0540289,(Psin|ENSPSIG00000010119.1:0.152729,Hsap|ENSG00000164308.16:0.233519)100:0.155485)79:0.0647398,Cmil|SINCAMG00000013012:0.166917)100:0.140643)97:0.0748059,((((Mmus|ENSMUSG00000023845.6:0.0681606,Hsap|ENSG00000113441.15:0.0560259)100:0.199473,(Ggal|ENSGALG00000015301.4:0.136399,Psin|ENSPSIG00000013103.1:0.171831)99:0.0844893)100:0.112205,Lcha|ENSLACG00000004747:0.326035)100:0.0879824,Cmil|SINCAMG00000013060:0.299496)100:0.187848)100:0.2256,Lcha|ENSLACG00000014273:0.746072)100:0.284617,((Blan|BL18782_cuf1:0.0842403,Bbel|Bbel.109468809:0.0842636)100:0.45541,(Spur|SPU_015735:0.557355,Apla|Apla.110976005:0.352526)99:0.318359)45:0.0512008)98:0.178539)96:0.0877162,((Bbel|Bbel.109469006:0.0770126,(Blan|BL14540_evm0:0.0245737,Bbel|Bbel.109468363:0.434346)87:0.0900215)100:0.4311,(Bbel|Bbel.109478945:0.530309,((Bbel|Bbel.109473668:0.0698421,Blan|BL09025_cuf0:0.0521055)100:0.217555,(Blan|BL22257_evm0:0.0677977,(Bbel|Bbel.109474013:0.0276715,Bbel|Bbel.109473418:0.0368767)99:0.0317991)100:0.162598)100:0.150774)100:0.283461)41:0.0959703,(((Spur|SPU_024032:0.177869,(Spur|SPU_027486:1e-06,Spur|SPU_015599:0.14545)99:0.0404975)100:0.254981,Spur|SPU_028897:0.459991)100:0.312396,((((Apla|Apla.110986592:0.34822,((Spur|SPU_003264:0.913327,Spur|SPU_003266:0.314536)46:0.0724115,(Spur|SPU_010468:0.391686,(Spur|SPU_023693:0.152704,((Spur|SPU_015341:0.00315138,Spur|SPU_003996:0.0376868)100:0.0607635,Spur|SPU_012295:0.0798388)100:0.188992)47:0.0522074)100:0.200928)50:0.0918614)62:0.0736134,((Apla|Apla.110986589:0.16648,Apla|Apla.110986598:0.292761)100:0.278372,Apla|Apla.110975999:0.616786)100:0.571459)100:0.189738,(Blan|BL08655_cuf0:0.0595499,Bbel|Bbel.109468978:0.0654449)100:0.512105)38:0.0509201,((((Phmamm|Phmamm.CG.MTP2014.S83.g02790_Hsap/ENSG00000166825.13/ENSG00000172901.19@a:0.2576,(Cirobu|KH.C13.147.v1.A.ND1-1_Hsap/ENSG00000166825.13/ENSG00000172901.19@a:0.151249,Cisavi|Cisavi.CG.ENS81.R541.46878-59161_Hsap/ENSG00000166825.13/ENSG00000172901.19@a:0.214291)100:0.108605)65:0.0452873,(Cisavi|Cisavi.CG.ENS81.R55.917582-935651_Hsap/ENSG00000166825.13/ENSG00000172901.19@b:0.244964,Cirobu|KH.C8.599.v1.A.ND1-1_Hsap/ENSG00000166825.13/ENSG00000172901.19@b:0.166126)100:0.229168)100:0.245402,(((Boleac|Boleac.CG.SB_v3.S648.g12742_Hsap/ENSG00000166825.13/ENSG00000172901.19@a:0.319118,((Boschl|Boschl.CG.Botznik2013.chr3.g27950_Hsap/ENSG00000166825.13/ENSG00000172901.19@a:0.0165994,Boschl|Boschl.CG.Botznik2013.chrUn.g04912_Hsap/ENSG00000166825.13/ENSG00000172901.19@b:0.0939363)100:0.156359,(Boleac|Boleac.CG.SB_v3.S460.g10151_Hsap/ENSG00000166825.13/ENSG00000172901.19@b:0.274506,(Boleac|Boleac.CG.SB_v3.S316.g07552_Hsap/ENSG00000166825.13/ENSG00000172901.19@c:0.114244,Boleac|Boleac.CG.SB_v3.S259.g06159_Hsap/ENSG00000166825.13/ENSG00000172901.19@d:0.0476204)93:0.0522939)84:0.0441946)62:0.0363981)100:0.384292,(Harore|Harore.CG.MTP2014.S176.g00751_Hsap/ENSG00000166825.13/ENSG00000172901.19@a:0.0069345,(Haaura|Haaura.CG.MTP2014.S3677.g10369_Hsap/ENSG00000166825.13/ENSG00000172901.19@a:0.0412252,((Haaura|Haaura.CG.MTP2014.S5332.g10896_Hsap/ENSG00000166825.13/ENSG00000172901.19@b:0.0444694,(Harore|Harore.CG.MTP2014.S176.g07683_Hsap/ENSG00000166825.13/ENSG00000172901.19@b:0.1205,Harore|Harore.CG.MTP2014.S176.g12920_Hsap/ENSG00000166825.13/ENSG00000172901.19@c:0.0287461)79:0.0280739)73:0.0422769,Harore|Harore.CG.MTP2014.S176.g08321_Hsap/ENSG00000166825.13/ENSG00000172901.19@d:0.0958416)56:0.00878165)50:0.010776)100:0.277497)97:0.133794,((((Haaura|Haaura.CG.MTP2014.S1078.g07542_Hsap/ENSG00000166825.13/ENSG00000172901.19@c:0.035675,Harore|Harore.CG.MTP2014.S768.g15157_Hsap/ENSG00000166825.13/ENSG00000172901.19@e:0.289738)98:0.0360145,(Harore|Harore.CG.MTP2014.S251.g04316_Hsap/ENSG00000166825.13/ENSG00000172901.19@f:0.0278003,Haaura|Haaura.CG.MTP2014.S3325.g10205_Hsap/ENSG00000166825.13/ENSG00000172901.19@d:0.0304007)67:0.0159808)100:0.272388,((Moocci|Moocci.CG.ELv1_2.S555069.g21560_Hsap/ENSG00000166825.13/ENSG00000172901.19@a:0.404874,(Moocul|Moocul.CG.ELv1_2.S100223.g08877_Hsap/ENSG00000166825.13/ENSG00000172901.19@a:0.086582,Moocul|Moocul.CG.ELv1_2.S64907.g04197_Hsap/ENSG00000166825.13/ENSG00000172901.19@b:0.102635)100:0.16424)86:0.0668664,(Moocul|Moocul.CG.ELv1_2.S107700.g10648_Hsap/ENSG00000166825.13/ENSG00000172901.19@c:0.378057,Moocci|Moocci.CG.ELv1_2.S469192.g15926_Hsap/ENSG00000166825.13/ENSG00000172901.19@b:0.232844)43:0.0504643)100:0.130782)57:0.0406058,(Phmamm|Phmamm.CG.MTP2014.S452.g08903_Hsap/ENSG00000166825.13/ENSG00000172901.19@b:0.446996,(Cisavi|Cisavi.CG.ENS81.R21.520784-539717_Hsap/ENSG00000166825.13/ENSG00000172901.19@c:0.234584,Cirobu|KH.C11.303.v1.A.ND1-1_Hsap/ENSG00000166825.13/ENSG00000172901.19@c:0.159617)100:0.192381)100:0.285524)36:0.0365418)100:0.273696)100:0.102981,((Cmil|SINCAMG00000011516:0.4634,(Lcha|ENSLACG00000015506:0.455287,((Mmus|ENSMUSG00000024481.4:0.278983,Hsap|ENSG00000172901.19:0.116184)100:0.31188,(Ggal|ENSGALG00000002318.4:0.275932,Psin|ENSPSIG00000017294.1:0.205635)100:0.13639)100:0.224837)99:0.164587)100:0.383849,(Cmil|SINCAMG00000005946:0.23906,(Lcha|ENSLACG00000018316:0.207663,((Hsap|ENSG00000166825.13:0.107936,Mmus|ENSMUSG00000039062.15:0.161302)100:0.118993,Ggal|ENSGALG00000027501.1:0.248806)100:0.0952606)94:0.0796034)100:0.194088)100:0.179072)99:0.098373)76:0.05577)43:0.0695648):0.392718,(Cmil|SINCAMG00000004332:0.199737,(Lcha|ENSLACG00000005814:0.0597079,((Psin|ENSPSIG00000010852.1:0.0218377,Ggal|ENSGALG00000010200.4:0.0379344)81:0.0164426,(Hsap|ENSG00000072657.8:0.00632702,Mmus|ENSMUSG00000050663.7:0.0193313)100:0.0527896)99:0.111716)87:0.0478953)100:0.392718);']"
      ]
     },
     "execution_count": 87,
     "metadata": {},
     "output_type": "execute_result"
    }
   ],
   "source": [
    "#grep('Phmamm|Phmamm.CG.MTP2014.S254.g06199','Outputs/1ToMany_all.txt')\n",
    "grep('Moocci|Moocci.CG.ELv1_2.S469192.g15926',complex)"
   ]
  },
  {
   "cell_type": "code",
   "execution_count": 2,
   "metadata": {},
   "outputs": [],
   "source": [
    "import Bio.Phylo as ph\n",
    "import io\n",
    "complex='OrthologyRelationships/rootedTrees_withVertebrates_Nomenclature_complex.txt'\n",
    "with open(complex) as c:  \n",
    "    line=c.readline()\n",
    "    nm=0\n",
    "    while nm<1003 : \n",
    "        line=c.readline()\n",
    "        nm+=1\n",
    "        if 'Cirobu|KH.100176153' in line : \n",
    "            tree=ph.read(io.StringIO(line),'newick')\n",
    "            ph.draw_ascii(tree)"
   ]
  },
  {
   "cell_type": "code",
   "execution_count": 1,
   "metadata": {},
   "outputs": [
    {
     "ename": "NameError",
     "evalue": "name 'ph' is not defined",
     "output_type": "error",
     "traceback": [
      "\u001b[0;31m---------------------------------------------------------------------------\u001b[0m",
      "\u001b[0;31mNameError\u001b[0m                                 Traceback (most recent call last)",
      "Cell \u001b[0;32mIn[1], line 1\u001b[0m\n\u001b[0;32m----> 1\u001b[0m tree\u001b[38;5;241m=\u001b[39m\u001b[43mph\u001b[49m\u001b[38;5;241m.\u001b[39mread(io\u001b[38;5;241m.\u001b[39mStringIO((\u001b[38;5;124m'\u001b[39m\u001b[38;5;124m'\u001b[39m)\u001b[38;5;241m.\u001b[39mjoin(grep(\u001b[38;5;124m'\u001b[39m\u001b[38;5;124mMoocci|Moocci.CG.ELv1_2.S469192.g15926\u001b[39m\u001b[38;5;124m'\u001b[39m,\u001b[38;5;28mcomplex\u001b[39m))),\u001b[38;5;124m'\u001b[39m\u001b[38;5;124mnewick\u001b[39m\u001b[38;5;124m'\u001b[39m)\n\u001b[1;32m      2\u001b[0m ph\u001b[38;5;241m.\u001b[39mdraw_ascii(tree)\n",
      "\u001b[0;31mNameError\u001b[0m: name 'ph' is not defined"
     ]
    }
   ],
   "source": [
    "tree=ph.read(io.StringIO(('').join(grep('Moocci|Moocci.CG.ELv1_2.S469192.g15926',complex))),'newick')\n",
    "ph.draw_ascii(tree)"
   ]
  },
  {
   "cell_type": "code",
   "execution_count": 92,
   "metadata": {},
   "outputs": [
    {
     "data": {
      "text/plain": [
       "'(((((Spur|SPU_011978:0.372719,Apla|Apla.110973372:0.39682)100:0.207953,((Bbel|Bbel.109478356:0.0416426,Blan|BL10432_evm1:0.0281578)100:0.47999,((((Mmus|ENSMUSG00000028024.14:0.139545,Hsap|ENSG00000138792.9:0.104916)100:0.169782,((Psin|ENSPSIG00000002492.1:0.186096,Psin|ENSPSIG00000002521.1:0.0285953)100:0.0976085,Ggal|ENSGALG00000012108.4:0.165825)90:0.0537825)76:0.0495829,(Lcha|ENSLACG00000002781:0.323642,Cmil|SINCAMG00000015293:0.316518)58:0.0242354)100:0.348294,((Moocul|Moocul.CG.ELv1_2.S42447.g02191_Hsap/ENSG00000138792.9@a:0.653533,((Phmamm|Phmamm.CG.MTP2014.S1144.g13864_Hsap/ENSG00000138792.9@a:0.200245,(Cirobu|KH.C12.644.v2.A.ND2-1_Hsap/ENSG00000138792.9:0.214593,(Phmamm|Phmamm.CG.MTP2014.S1144.g13863_Hsap/ENSG00000138792.9@b:0.0827105,Phfumi|Phfumi.CG.MTP2014.S5297.g06854_Hsap/ENSG00000138792.9:0.0416003)100:0.164033)83:0.0469822)99:0.131863,((Boschl|Boschl.CG.Botznik2013.chrUn.g41800_Hsap/ENSG00000138792.9@a:0.330913,((Boleac|Boleac.CG.SB_v3.S19.g04210_Hsap/ENSG00000138792.9@a:0.123323,Boleac|Boleac.CG.SB_v3.S19.g04211_Hsap/ENSG00000138792.9@b:0.156748)95:0.119545,(Boschl|Boschl.CG.Botznik2013.chrUn.g38815_Hsap/ENSG00000138792.9@b:0.00452671,Boschl|Boschl.CG.Botznik2013.chrUn.g26565_Hsap/ENSG00000138792.9@c:0.188563)91:0.120647)63:0.0599914)97:0.113794,(Boschl|Boschl.CG.Botznik2013.chr10.g25304_Hsap/ENSG00000138792.9@d:1e-06,Boschl|Boschl.CG.Botznik2013.chrUn.g69414_Hsap/ENSG00000138792.9@e:0.298347)100:0.420156)99:0.1534)62:0.056594)55:0.0698614,Moocul|Moocul.CG.ELv1_2.S97294.g08234_Hsap/ENSG00000138792.9@b:0.757675)100:0.128592)100:0.145324)75:0.0773958)100:0.164948,(((((Lcha|ENSLACG00000001492:0.148156,((Ggal|ENSGALG00000014684.4:0.183549,Psin|ENSPSIG00000007224.1:0.0796602)99:0.0611863,(Hsap|ENSG00000164307.12:0.0626498,Mmus|ENSMUSG00000021583.7:0.0836188)100:0.148471)82:0.0560119)100:0.220891,(((Lcha|ENSLACG00000003032:0.143475,Psin|ENSPSIG00000009185.1:0.174609)86:0.0540289,(Psin|ENSPSIG00000010119.1:0.152729,Hsap|ENSG00000164308.16:0.233519)100:0.155485)79:0.0647398,Cmil|SINCAMG00000013012:0.166917)100:0.140643)97:0.0748059,((((Mmus|ENSMUSG00000023845.6:0.0681606,Hsap|ENSG00000113441.15:0.0560259)100:0.199473,(Ggal|ENSGALG00000015301.4:0.136399,Psin|ENSPSIG00000013103.1:0.171831)99:0.0844893)100:0.112205,Lcha|ENSLACG00000004747:0.326035)100:0.0879824,Cmil|SINCAMG00000013060:0.299496)100:0.187848)100:0.2256,Lcha|ENSLACG00000014273:0.746072)100:0.284617,((Blan|BL18782_cuf1:0.0842403,Bbel|Bbel.109468809:0.0842636)100:0.45541,(Spur|SPU_015735:0.557355,Apla|Apla.110976005:0.352526)99:0.318359)45:0.0512008)98:0.178539)96:0.0877162,((Bbel|Bbel.109469006:0.0770126,(Blan|BL14540_evm0:0.0245737,Bbel|Bbel.109468363:0.434346)87:0.0900215)100:0.4311,(Bbel|Bbel.109478945:0.530309,((Bbel|Bbel.109473668:0.0698421,Blan|BL09025_cuf0:0.0521055)100:0.217555,(Blan|BL22257_evm0:0.0677977,(Bbel|Bbel.109474013:0.0276715,Bbel|Bbel.109473418:0.0368767)99:0.0317991)100:0.162598)100:0.150774)100:0.283461)41:0.0959703,(((Spur|SPU_024032:0.177869,(Spur|SPU_027486:1e-06,Spur|SPU_015599:0.14545)99:0.0404975)100:0.254981,Spur|SPU_028897:0.459991)100:0.312396,((((Apla|Apla.110986592:0.34822,((Spur|SPU_003264:0.913327,Spur|SPU_003266:0.314536)46:0.0724115,(Spur|SPU_010468:0.391686,(Spur|SPU_023693:0.152704,((Spur|SPU_015341:0.00315138,Spur|SPU_003996:0.0376868)100:0.0607635,Spur|SPU_012295:0.0798388)100:0.188992)47:0.0522074)100:0.200928)50:0.0918614)62:0.0736134,((Apla|Apla.110986589:0.16648,Apla|Apla.110986598:0.292761)100:0.278372,Apla|Apla.110975999:0.616786)100:0.571459)100:0.189738,(Blan|BL08655_cuf0:0.0595499,Bbel|Bbel.109468978:0.0654449)100:0.512105)38:0.0509201,((((Phmamm|Phmamm.CG.MTP2014.S83.g02790_Hsap/ENSG00000166825.13/ENSG00000172901.19@a:0.2576,(Cirobu|KH.C13.147.v1.A.ND1-1_Hsap/ENSG00000166825.13/ENSG00000172901.19@a:0.151249,Cisavi|Cisavi.CG.ENS81.R541.46878-59161_Hsap/ENSG00000166825.13/ENSG00000172901.19@a:0.214291)100:0.108605)65:0.0452873,(Cisavi|Cisavi.CG.ENS81.R55.917582-935651_Hsap/ENSG00000166825.13/ENSG00000172901.19@b:0.244964,Cirobu|KH.C8.599.v1.A.ND1-1_Hsap/ENSG00000166825.13/ENSG00000172901.19@b:0.166126)100:0.229168)100:0.245402,(((Boleac|Boleac.CG.SB_v3.S648.g12742_Hsap/ENSG00000166825.13/ENSG00000172901.19@a:0.319118,((Boschl|Boschl.CG.Botznik2013.chr3.g27950_Hsap/ENSG00000166825.13/ENSG00000172901.19@a:0.0165994,Boschl|Boschl.CG.Botznik2013.chrUn.g04912_Hsap/ENSG00000166825.13/ENSG00000172901.19@b:0.0939363)100:0.156359,(Boleac|Boleac.CG.SB_v3.S460.g10151_Hsap/ENSG00000166825.13/ENSG00000172901.19@b:0.274506,(Boleac|Boleac.CG.SB_v3.S316.g07552_Hsap/ENSG00000166825.13/ENSG00000172901.19@c:0.114244,Boleac|Boleac.CG.SB_v3.S259.g06159_Hsap/ENSG00000166825.13/ENSG00000172901.19@d:0.0476204)93:0.0522939)84:0.0441946)62:0.0363981)100:0.384292,(Harore|Harore.CG.MTP2014.S176.g00751_Hsap/ENSG00000166825.13/ENSG00000172901.19@a:0.0069345,(Haaura|Haaura.CG.MTP2014.S3677.g10369_Hsap/ENSG00000166825.13/ENSG00000172901.19@a:0.0412252,((Haaura|Haaura.CG.MTP2014.S5332.g10896_Hsap/ENSG00000166825.13/ENSG00000172901.19@b:0.0444694,(Harore|Harore.CG.MTP2014.S176.g07683_Hsap/ENSG00000166825.13/ENSG00000172901.19@b:0.1205,Harore|Harore.CG.MTP2014.S176.g12920_Hsap/ENSG00000166825.13/ENSG00000172901.19@c:0.0287461)79:0.0280739)73:0.0422769,Harore|Harore.CG.MTP2014.S176.g08321_Hsap/ENSG00000166825.13/ENSG00000172901.19@d:0.0958416)56:0.00878165)50:0.010776)100:0.277497)97:0.133794,((((Haaura|Haaura.CG.MTP2014.S1078.g07542_Hsap/ENSG00000166825.13/ENSG00000172901.19@c:0.035675,Harore|Harore.CG.MTP2014.S768.g15157_Hsap/ENSG00000166825.13/ENSG00000172901.19@e:0.289738)98:0.0360145,(Harore|Harore.CG.MTP2014.S251.g04316_Hsap/ENSG00000166825.13/ENSG00000172901.19@f:0.0278003,Haaura|Haaura.CG.MTP2014.S3325.g10205_Hsap/ENSG00000166825.13/ENSG00000172901.19@d:0.0304007)67:0.0159808)100:0.272388,((Moocci|Moocci.CG.ELv1_2.S555069.g21560_Hsap/ENSG00000166825.13/ENSG00000172901.19@a:0.404874,(Moocul|Moocul.CG.ELv1_2.S100223.g08877_Hsap/ENSG00000166825.13/ENSG00000172901.19@a:0.086582,Moocul|Moocul.CG.ELv1_2.S64907.g04197_Hsap/ENSG00000166825.13/ENSG00000172901.19@b:0.102635)100:0.16424)86:0.0668664,(Moocul|Moocul.CG.ELv1_2.S107700.g10648_Hsap/ENSG00000166825.13/ENSG00000172901.19@c:0.378057,Moocci|Moocci.CG.ELv1_2.S469192.g15926_Hsap/ENSG00000166825.13/ENSG00000172901.19@b:0.232844)43:0.0504643)100:0.130782)57:0.0406058,(Phmamm|Phmamm.CG.MTP2014.S452.g08903_Hsap/ENSG00000166825.13/ENSG00000172901.19@b:0.446996,(Cisavi|Cisavi.CG.ENS81.R21.520784-539717_Hsap/ENSG00000166825.13/ENSG00000172901.19@c:0.234584,Cirobu|KH.C11.303.v1.A.ND1-1_Hsap/ENSG00000166825.13/ENSG00000172901.19@c:0.159617)100:0.192381)100:0.285524)36:0.0365418)100:0.273696)100:0.102981,((Cmil|SINCAMG00000011516:0.4634,(Lcha|ENSLACG00000015506:0.455287,((Mmus|ENSMUSG00000024481.4:0.278983,Hsap|ENSG00000172901.19:0.116184)100:0.31188,(Ggal|ENSGALG00000002318.4:0.275932,Psin|ENSPSIG00000017294.1:0.205635)100:0.13639)100:0.224837)99:0.164587)100:0.383849,(Cmil|SINCAMG00000005946:0.23906,(Lcha|ENSLACG00000018316:0.207663,((Hsap|ENSG00000166825.13:0.107936,Mmus|ENSMUSG00000039062.15:0.161302)100:0.118993,Ggal|ENSGALG00000027501.1:0.248806)100:0.0952606)94:0.0796034)100:0.194088)100:0.179072)99:0.098373)76:0.05577)43:0.0695648):0.392718,(Cmil|SINCAMG00000004332:0.199737,(Lcha|ENSLACG00000005814:0.0597079,((Psin|ENSPSIG00000010852.1:0.0218377,Ggal|ENSGALG00000010200.4:0.0379344)81:0.0164426,(Hsap|ENSG00000072657.8:0.00632702,Mmus|ENSMUSG00000050663.7:0.0193313)100:0.0527896)99:0.111716)87:0.0478953)100:0.392718);'"
      ]
     },
     "execution_count": 92,
     "metadata": {},
     "output_type": "execute_result"
    }
   ],
   "source": [
    "('').join(grep('Moocci|Moocci.CG.ELv1_2.S469192.g15926',complex))"
   ]
  }
 ],
 "metadata": {
  "kernelspec": {
   "display_name": "Python 3",
   "language": "python",
   "name": "python3"
  },
  "language_info": {
   "codemirror_mode": {
    "name": "ipython",
    "version": 3
   },
   "file_extension": ".py",
   "mimetype": "text/x-python",
   "name": "python",
   "nbconvert_exporter": "python",
   "pygments_lexer": "ipython3",
   "version": "3.10.12"
  }
 },
 "nbformat": 4,
 "nbformat_minor": 2
}
