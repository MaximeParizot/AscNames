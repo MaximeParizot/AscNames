{
 "cells": [
  {
   "cell_type": "code",
   "execution_count": 5,
   "metadata": {},
   "outputs": [],
   "source": [
    "vert=['Cmil','Lcha','Hsap','Mmus','Ggal','Psin']"
   ]
  },
  {
   "cell_type": "code",
   "execution_count": 34,
   "metadata": {},
   "outputs": [
    {
     "name": "stdout",
     "output_type": "stream",
     "text": [
      "Cmil  Part : 18.7%\n",
      "{'involve': 35, 'difgenes': 21, 'nb not found': 35, 'nb no name': 0, 'only': 2}\n",
      "Lcha  Part : 23.0%\n",
      "{'involve': 43, 'difgenes': 23, 'nb not found': 0, 'nb no name': 11, 'only': 4}\n",
      "Hsap  Part : 0.0%\n",
      "{'involve': 0, 'difgenes': 0, 'nb not found': 0, 'nb no name': 0, 'only': 0}\n",
      "Mmus  Part : 22.5%\n",
      "{'involve': 42, 'difgenes': 20, 'nb not found': 0, 'nb no name': 0, 'only': 2}\n",
      "Ggal  Part : 17.1%\n",
      "{'involve': 32, 'difgenes': 17, 'nb not found': 32, 'nb no name': 0, 'only': 0}\n",
      "Psin  Part : 18.7%\n",
      "{'involve': 35, 'difgenes': 21, 'nb not found': 0, 'nb no name': 10, 'only': 1}\n"
     ]
    }
   ],
   "source": [
    "with open('Outputs/1ToMany_vertnh.txt') as f : \n",
    "    lines=f.readlines()\n",
    "    tot=len(lines)\n",
    "    dicvert={}\n",
    "    dejavu={}\n",
    "    for v in vert :\n",
    "        dejavu[v]=False\n",
    "        sousdic={}\n",
    "        sousdic['involve']=0\n",
    "        sousdic['difgenes']=0 \n",
    "        sousdic['nb not found']=0\n",
    "        sousdic['nb no name']=0 \n",
    "        sousdic['only']=0\n",
    "        dicvert[v]=sousdic\n",
    "    current=' '\n",
    "    for line in lines : \n",
    "        dicvert[line.split(' ')[1].split('|')[0]]['involve']+=1\n",
    "        if line.split(' ')[1].split('|')[1].split('Name::')[1].split(';')[0].strip()=='notFound':\n",
    "            dicvert[line.split(' ')[1].split('|')[0]]['nb not found']+=1\n",
    "        if line.split(' ')[1].split('|')[1].split('Name::')[1].split(';')[0].strip()=='':\n",
    "            dicvert[line.split(' ')[1].split('|')[0]]['nb no name']+=1\n",
    "        if not(dejavu[line.split(' ')[1].split('|')[0]]): \n",
    "            dicvert[line.split(' ')[1].split('|')[0]]['difgenes']+=1\n",
    "            dejavu[line.split(' ')[1].split('|')[0]]=True\n",
    "        if line.split(' ')[0]!=current : \n",
    "            current=line.split(' ')[0]\n",
    "            tr=[]\n",
    "            for v in vert :\n",
    "                if dejavu[v]: \n",
    "                    tr.append(v)\n",
    "                    dejavu[v]=False\n",
    "            if len(tr)==1:  \n",
    "                dicvert[tr[0]]['only']+=1\n",
    "    for v in vert : \n",
    "        print(f\"{v}  Part : {dicvert[v]['involve']*100/tot:.1f}%\")\n",
    "        print(dicvert[v])"
   ]
  }
 ],
 "metadata": {
  "kernelspec": {
   "display_name": "Python 3",
   "language": "python",
   "name": "python3"
  },
  "language_info": {
   "codemirror_mode": {
    "name": "ipython",
    "version": 3
   },
   "file_extension": ".py",
   "mimetype": "text/x-python",
   "name": "python",
   "nbconvert_exporter": "python",
   "pygments_lexer": "ipython3",
   "version": "3.10.12"
  }
 },
 "nbformat": 4,
 "nbformat_minor": 2
}
