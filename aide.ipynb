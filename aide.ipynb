{
 "cells": [
  {
   "cell_type": "code",
   "execution_count": 63,
   "metadata": {},
   "outputs": [],
   "source": [
    "import os\n",
    "import subprocess\n",
    "#os.chdir('OrthologyRelationships')\n",
    "filelist=[i for i in os.listdir()] # 0 1-ToMany  1 paralogy 2 1to1  3 ToMany"
   ]
  },
  {
   "cell_type": "code",
   "execution_count": 64,
   "metadata": {},
   "outputs": [],
   "source": [
    "asc=['Phmamm','Phfumi','Cisavi','Cirobu','Moocci','Moocul','Mooccu','Boschl','Boleac','Haaura','Harore']\n",
    "vert=['Cmil','Lcha','Hsap','Mmus','Ggal','Psin']\n",
    "outgroupt=['Spur','Apla','Bbel','Blan']"
   ]
  },
  {
   "cell_type": "code",
   "execution_count": 65,
   "metadata": {},
   "outputs": [],
   "source": [
    "def getasc(file): # On va piocher tout les gene d'ascidies donc ceux appartenants \n",
    "    ascilist=[]\n",
    "    max=100\n",
    "    with open (file) as f : \n",
    "        lines= f.readlines()\n",
    "        for line in lines : \n",
    "            if max!=0 : \n",
    "                for gene in line.split(' '): \n",
    "                    if len(gene.split('|')[1].split('.'))>2: \n",
    "                        ascilist.append(gene.strip())\n",
    "                        #if not(gene.split('|')[0] in asc) :         # verfication effectué et valider on a bien que des ascidies \n",
    "                            #print(gene)                 \n",
    "    f.close()\n",
    "    return list(set(ascilist))      # On passe par un set pour prendre les valeurs uniques de la liste\n",
    "ascilist=getasc(filelist[2])\n",
    "miniasci=ascilist[:100]  # mini jeu pour les tests et essais \n"
   ]
  },
  {
   "cell_type": "code",
   "execution_count": 12,
   "metadata": {},
   "outputs": [
    {
     "data": {
      "text/plain": [
       "94661"
      ]
     },
     "execution_count": 12,
     "metadata": {},
     "output_type": "execute_result"
    }
   ],
   "source": [
    "len(ascilist)"
   ]
  },
  {
   "cell_type": "code",
   "execution_count": 13,
   "metadata": {},
   "outputs": [],
   "source": [
    "def withhuman(Gene,file): \n",
    "    with open (file,'r') as f : \n",
    "        for line in f : \n",
    "                if line.split(' ')[0]==Gene or line.split(' ')[1].strip()==Gene : \n",
    "                     if line.split(' ')[0].split('|')[0]=='Hsap' or line.split(' ')[1].strip().split('|')[0]=='Hsap':\n",
    "                        return True\n",
    "    f.close()\n",
    "    return False"
   ]
  },
  {
   "cell_type": "code",
   "execution_count": 58,
   "metadata": {},
   "outputs": [
    {
     "data": {
      "text/plain": [
       "13.147361111111111"
      ]
     },
     "execution_count": 58,
     "metadata": {},
     "output_type": "execute_result"
    }
   ],
   "source": [
    "len(ascilist)/len(miniasci)*50/60/60  #temps estimer en heures"
   ]
  },
  {
   "cell_type": "code",
   "execution_count": 52,
   "metadata": {},
   "outputs": [],
   "source": [
    "def grep(Gene,file): \n",
    "    commande='grep '+Gene.split('|')[1]+' '+file\n",
    "    #print(commande)\n",
    "    res=subprocess.check_output(commande.split(' '))\n",
    "    return res.decode().replace(\"\\n\",' ').split(' ')[:-1]   # dernière element à enlever car toujours un espaces blanc "
   ]
  },
  {
   "cell_type": "code",
   "execution_count": 51,
   "metadata": {},
   "outputs": [
    {
     "name": "stdout",
     "output_type": "stream",
     "text": [
      "Phmamm|Phmamm.CG.MTP2014.S39.g01528\n",
      "Apla|Apla.110983125\n",
      "Harore|Harore.CG.MTP2014.S2.g08925\n",
      "Apla|Apla.110986193\n",
      "Cirobu|KH.C12.234.v3.A.SL2-2\n",
      "Blan|BL05702_cuf0\n",
      "Phfumi|Phfumi.CG.MTP2014.S22383.g09818\n",
      "Spur|SPU_013856\n",
      "Apla|Apla.110983098\n",
      "Bbel|Bbel.109466227\n",
      "Phfumi|Phfumi.CG.MTP2014.S8124.g08001\n",
      "Apla|Apla.110981565\n",
      "Apla|Apla.110989620\n",
      "Spur|SPU_008388\n",
      "Cirobu|KH.C12.369.v1.A.ND1-1\n",
      "Cisavi|Cisavi.CG.ENS81.R1.1342239-1343717\n",
      "Phfumi|Phfumi.CG.MTP2014.S13.g00256\n",
      "Moocul|Moocul.CG.ELv1_2.S68909.g04540\n",
      "Spur|SPU_012320\n",
      "Bbel|Bbel.109487816\n",
      "Spur|SPU_006990\n",
      "Apla|Apla.110979551\n",
      "Boschl|Boschl.CG.Botznik2013.chr8.g58608\n",
      "Moocci|Moocci.CG.ELv1_2.S578012.g22917\n",
      "Spur|SPU_017469\n",
      "Apla|Apla.110987455\n",
      "Harore|Harore.CG.MTP2014.S38.g02563\n",
      "Apla|Apla.110986941\n",
      "Bbel|Bbel.109472485\n",
      "Cisavi|Cisavi.CG.ENS81.R442.61436-64468\n",
      "Apla|Apla.110983037\n",
      "Apla|Apla.110976999\n",
      "Boschl|Boschl.CG.Botznik2013.chrUn.g28473\n",
      "Bbel|Bbel.109481336\n",
      "Boleac|Boleac.CG.SB_v3.S87.g14880\n",
      "Boleac|Boleac.CG.SB_v3.S56.g11633\n",
      "Boleac|Boleac.CG.SB_v3.S137.g02473\n",
      "Apla|Apla.110979176\n",
      "Apla|Apla.110973496\n",
      "Blan|BL19766_evm4\n",
      "Apla|Apla.110983901\n",
      "Boschl|Boschl.CG.Botznik2013.chrUn.g24052\n",
      "Phfumi|Phfumi.CG.MTP2014.S24632.g09886\n",
      "Spur|SPU_011821\n",
      "Apla|Apla.110985079\n",
      "Haaura|Haaura.CG.MTP2014.S1346.g08153\n",
      "Cirobu|KH.S115.1.v3.A.SL2-1\n",
      "Spur|SPU_014580\n",
      "Boleac|Boleac.CG.SB_v3.S463.g10182\n",
      "Phmamm|Phmamm.CG.MTP2014.S261.g06295\n",
      "Harore|Harore.CG.MTP2014.S473.g01188\n",
      "Mooccu|Mooccu.CG.ELv1_2.S251686.g09408\n",
      "Apla|Apla.110983423\n",
      "Bbel|Bbel.109463311\n",
      "Harore|Harore.CG.MTP2014.S819.g04472\n",
      "Cirobu|KH.C7.547.v1.C.ND1-1\n",
      "Spur|SPU_004863\n",
      "Haaura|Haaura.CG.MTP2014.S1839.g08958\n",
      "Bbel|Bbel.109483112\n",
      "Apla|Apla.110975175\n",
      "Moocci|Moocci.CG.ELv1_2.S474073.g16304\n",
      "Moocul|Moocul.CG.ELv1_2.S110138.g11525\n",
      "Apla|Apla.110976768\n",
      "Apla|Apla.110981384\n",
      "Cirobu|KH.L50.23.v1.A.ND1-1\n",
      "Boleac|Boleac.CG.SB_v3.S117.g01410\n",
      "Apla|Apla.110986628\n",
      "Blan|BL08242_cuf0\n",
      "Harore|Harore.CG.MTP2014.S176.g00960\n",
      "Boschl|Boschl.CG.Botznik2013.chr12.g26631\n",
      "Cisavi|Cisavi.CG.ENS81.R3.1734040-1735812\n",
      "Spur|SPU_022687\n",
      "Harore|Harore.CG.MTP2014.S108.g15996\n",
      "Boleac|Boleac.CG.SB_v3.S367.g08435\n",
      "Spur|SPU_002592\n",
      "Apla|Apla.110977285\n",
      "Spur|SPU_026943\n",
      "Blan|BL03176_evm0\n",
      "Apla|Apla.110981643\n",
      "Phfumi|Phfumi.CG.MTP2014.S21169.g09762\n",
      "Phmamm|Phmamm.CG.MTP2014.S498.g09460\n",
      "Moocci|Moocci.CG.ELv1_2.S244031.g05517\n",
      "Moocci|Moocci.CG.ELv1_2.S30646.g00271\n",
      "Cisavi|Cisavi.CG.ENS81.R132.1285305-1288653\n",
      "Apla|Apla.110978054\n",
      "Phmamm|Phmamm.CG.MTP2014.S508.g09578\n",
      "Apla|Apla.110973508\n",
      "Spur|SPU_019590\n",
      "Cisavi|Cisavi.CG.ENS81.R151.1096-19315\n",
      "Cirobu|KH.C11.12.v1.A.ND1-1\n",
      "Phmamm|Phmamm.CG.MTP2014.S93.g03012\n",
      "Phmamm|Phmamm.CG.MTP2014.S58.g02094\n",
      "Harore|Harore.CG.MTP2014.S460.g07133\n",
      "Bbel|Bbel.109488123\n",
      "Cirobu|KH.C7.576.v1.A.ND1-1\n",
      "Cirobu|KH.S1172.1.v1.B.ND2-1\n",
      "Moocul|Moocul.CG.ELv1_2.S96242.g08095\n",
      "Moocci|Moocci.CG.ELv1_2.S419219.g12724\n",
      "Harore|Harore.CG.MTP2014.S199.g04493\n",
      "Apla|Apla.110985670\n"
     ]
    }
   ],
   "source": [
    "for g in miniasci:\n",
    "    res=grep(g,filelist[2])\n",
    "    #print(res[len(res)-1])\n"
   ]
  },
  {
   "cell_type": "code",
   "execution_count": 55,
   "metadata": {},
   "outputs": [],
   "source": [
    "def withhumanbis(Gene,file): \n",
    "    res=grep(Gene,file)\n",
    "    for i in res : \n",
    "        if i.split('|')[0]=='Hsap':\n",
    "            return True\n",
    "    return False\n"
   ]
  },
  {
   "cell_type": "code",
   "execution_count": 62,
   "metadata": {},
   "outputs": [
    {
     "data": {
      "text/plain": [
       "25"
      ]
     },
     "execution_count": 62,
     "metadata": {},
     "output_type": "execute_result"
    }
   ],
   "source": [
    "cpt=0\n",
    "for g in miniasci:\n",
    "    cpt+=withhuman(g,filelist[2])\n",
    "cpt"
   ]
  },
  {
   "cell_type": "code",
   "execution_count": 60,
   "metadata": {},
   "outputs": [
    {
     "data": {
      "text/plain": [
       "2.1035777777777778"
      ]
     },
     "execution_count": 60,
     "metadata": {},
     "output_type": "execute_result"
    }
   ],
   "source": [
    "len(ascilist)/len(miniasci)*8/60/60  #nv temps estimer en heures "
   ]
  }
 ],
 "metadata": {
  "kernelspec": {
   "display_name": "Python 3",
   "language": "python",
   "name": "python3"
  },
  "language_info": {
   "codemirror_mode": {
    "name": "ipython",
    "version": 3
   },
   "file_extension": ".py",
   "mimetype": "text/x-python",
   "name": "python",
   "nbconvert_exporter": "python",
   "pygments_lexer": "ipython3",
   "version": "3.10.12"
  }
 },
 "nbformat": 4,
 "nbformat_minor": 2
}
