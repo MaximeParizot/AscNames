{
 "cells": [
  {
   "cell_type": "code",
   "execution_count": 18,
   "metadata": {},
   "outputs": [],
   "source": [
    "import os\n",
    "import subprocess\n",
    "#os.chdir('OrthologyRelationships')  # Executer une seule fois puisque la seconde fois on se trouve deja dans le bon repertoire \n",
    "filelist=[i for i in os.listdir()] # 0 1-ToMany  1 paralogy 2 1to1  3 ToMany"
   ]
  },
  {
   "cell_type": "code",
   "execution_count": 2,
   "metadata": {},
   "outputs": [],
   "source": [
    "asc=['Phmamm','Phfumi','Cisavi','Cirobu','Moocci','Moocul','Mooccu','Boschl','Boleac','Haaura','Harore']\n",
    "vert=['Cmil','Lcha','Hsap','Mmus','Ggal','Psin']\n",
    "outgroupt=['Spur','Apla','Bbel','Blan']"
   ]
  },
  {
   "cell_type": "code",
   "execution_count": 3,
   "metadata": {},
   "outputs": [],
   "source": [
    "def getasc(file): # On va piocher tout les gene d'ascidies donc ceux appartenants \n",
    "    ascilist=[]\n",
    "    max=100\n",
    "    with open (file) as f : \n",
    "        lines= f.readlines()\n",
    "        for line in lines : \n",
    "            if max!=0 : \n",
    "                for gene in line.split(' '): \n",
    "                    if len(gene.split('|')[1].split('.'))>2: \n",
    "                        ascilist.append(gene.strip())\n",
    "                        #if not(gene.split('|')[0] in asc) :         # verfication effectué et valider on a bien que des ascidies \n",
    "                            #print(gene)                 \n",
    "    f.close()\n",
    "    return list(set(ascilist))      # On passe par un set pour prendre les valeurs uniques de la liste\n",
    "ascilist=getasc(filelist[2])\n",
    "miniasci=ascilist[:100]  # mini jeu pour les tests et essais \n",
    "moyenasc=ascilist[:10000]"
   ]
  },
  {
   "cell_type": "code",
   "execution_count": 4,
   "metadata": {},
   "outputs": [
    {
     "data": {
      "text/plain": [
       "94661"
      ]
     },
     "execution_count": 4,
     "metadata": {},
     "output_type": "execute_result"
    }
   ],
   "source": [
    "len(ascilist)"
   ]
  },
  {
   "cell_type": "code",
   "execution_count": 1,
   "metadata": {},
   "outputs": [],
   "source": [
    "def grep(Gene,file): \n",
    "    commande='grep '+Gene.split('|')[1]+' '+file\n",
    "    #print(commande)\n",
    "    res=subprocess.check_output(commande.split(' '))\n",
    "    return res.decode().replace(\"\\n\",' ').split(' ')[:-1]   # dernière element à enlever car toujours un espaces blanc "
   ]
  },
  {
   "cell_type": "code",
   "execution_count": 6,
   "metadata": {},
   "outputs": [],
   "source": [
    "def withhuman(Gene,file):   # Return True si le gene a un ortologue chez l'humain, False sinon \n",
    "    res=grep(Gene,file)\n",
    "    for i in res : \n",
    "        if i.split('|')[0]=='Hsap':\n",
    "            return True\n",
    "    return False\n"
   ]
  },
  {
   "cell_type": "code",
   "execution_count": 7,
   "metadata": {},
   "outputs": [
    {
     "data": {
      "text/plain": [
       "2.1035777777777778"
      ]
     },
     "execution_count": 7,
     "metadata": {},
     "output_type": "execute_result"
    }
   ],
   "source": [
    "len(ascilist)/len(miniasci)*8/60/60  #temps estimer en heures pour l'execution totale "
   ]
  },
  {
   "cell_type": "code",
   "execution_count": 8,
   "metadata": {},
   "outputs": [],
   "source": [
    "def dicrelation(GeneList,file):\n",
    "    dic={}\n",
    "    for g in GeneList : \n",
    "        l=list(set(grep(g,file)))\n",
    "        l.remove(g)\n",
    "        dic[g]=l\n",
    "    return dic "
   ]
  },
  {
   "cell_type": "code",
   "execution_count": 158,
   "metadata": {},
   "outputs": [
    {
     "ename": "CalledProcessError",
     "evalue": "Command '['grep', 'Boschl.CG.Botznik2013.chr9.g50001', 'rootedTre_orthology1ToMany.txt']' returned non-zero exit status 1.",
     "output_type": "error",
     "traceback": [
      "\u001b[0;31m---------------------------------------------------------------------------\u001b[0m",
      "\u001b[0;31mCalledProcessError\u001b[0m                        Traceback (most recent call last)",
      "Cell \u001b[0;32mIn[158], line 1\u001b[0m\n\u001b[0;32m----> 1\u001b[0m dicrel\u001b[38;5;241m=\u001b[39m\u001b[43mdicrelation\u001b[49m\u001b[43m(\u001b[49m\u001b[43mminiasci\u001b[49m\u001b[43m,\u001b[49m\u001b[43mfilelist\u001b[49m\u001b[43m[\u001b[49m\u001b[38;5;241;43m0\u001b[39;49m\u001b[43m]\u001b[49m\u001b[43m)\u001b[49m\n",
      "Cell \u001b[0;32mIn[8], line 4\u001b[0m, in \u001b[0;36mdicrelation\u001b[0;34m(GeneList, file)\u001b[0m\n\u001b[1;32m      2\u001b[0m dic\u001b[38;5;241m=\u001b[39m{}\n\u001b[1;32m      3\u001b[0m \u001b[38;5;28;01mfor\u001b[39;00m g \u001b[38;5;129;01min\u001b[39;00m GeneList : \n\u001b[0;32m----> 4\u001b[0m     l\u001b[38;5;241m=\u001b[39m\u001b[38;5;28mlist\u001b[39m(\u001b[38;5;28mset\u001b[39m(\u001b[43mgrep\u001b[49m\u001b[43m(\u001b[49m\u001b[43mg\u001b[49m\u001b[43m,\u001b[49m\u001b[43mfile\u001b[49m\u001b[43m)\u001b[49m))\n\u001b[1;32m      5\u001b[0m     l\u001b[38;5;241m.\u001b[39mremove(g)\n\u001b[1;32m      6\u001b[0m     dic[g]\u001b[38;5;241m=\u001b[39ml\n",
      "Cell \u001b[0;32mIn[5], line 4\u001b[0m, in \u001b[0;36mgrep\u001b[0;34m(Gene, file)\u001b[0m\n\u001b[1;32m      2\u001b[0m commande\u001b[38;5;241m=\u001b[39m\u001b[38;5;124m'\u001b[39m\u001b[38;5;124mgrep \u001b[39m\u001b[38;5;124m'\u001b[39m\u001b[38;5;241m+\u001b[39mGene\u001b[38;5;241m.\u001b[39msplit(\u001b[38;5;124m'\u001b[39m\u001b[38;5;124m|\u001b[39m\u001b[38;5;124m'\u001b[39m)[\u001b[38;5;241m1\u001b[39m]\u001b[38;5;241m+\u001b[39m\u001b[38;5;124m'\u001b[39m\u001b[38;5;124m \u001b[39m\u001b[38;5;124m'\u001b[39m\u001b[38;5;241m+\u001b[39mfile\n\u001b[1;32m      3\u001b[0m \u001b[38;5;66;03m#print(commande)\u001b[39;00m\n\u001b[0;32m----> 4\u001b[0m res\u001b[38;5;241m=\u001b[39m\u001b[43msubprocess\u001b[49m\u001b[38;5;241;43m.\u001b[39;49m\u001b[43mcheck_output\u001b[49m\u001b[43m(\u001b[49m\u001b[43mcommande\u001b[49m\u001b[38;5;241;43m.\u001b[39;49m\u001b[43msplit\u001b[49m\u001b[43m(\u001b[49m\u001b[38;5;124;43m'\u001b[39;49m\u001b[38;5;124;43m \u001b[39;49m\u001b[38;5;124;43m'\u001b[39;49m\u001b[43m)\u001b[49m\u001b[43m)\u001b[49m\n\u001b[1;32m      5\u001b[0m \u001b[38;5;28;01mreturn\u001b[39;00m res\u001b[38;5;241m.\u001b[39mdecode()\u001b[38;5;241m.\u001b[39mreplace(\u001b[38;5;124m\"\u001b[39m\u001b[38;5;130;01m\\n\u001b[39;00m\u001b[38;5;124m\"\u001b[39m,\u001b[38;5;124m'\u001b[39m\u001b[38;5;124m \u001b[39m\u001b[38;5;124m'\u001b[39m)\u001b[38;5;241m.\u001b[39msplit(\u001b[38;5;124m'\u001b[39m\u001b[38;5;124m \u001b[39m\u001b[38;5;124m'\u001b[39m)[:\u001b[38;5;241m-\u001b[39m\u001b[38;5;241m1\u001b[39m]\n",
      "File \u001b[0;32m/usr/lib/python3.10/subprocess.py:421\u001b[0m, in \u001b[0;36mcheck_output\u001b[0;34m(timeout, *popenargs, **kwargs)\u001b[0m\n\u001b[1;32m    418\u001b[0m         empty \u001b[38;5;241m=\u001b[39m \u001b[38;5;124mb\u001b[39m\u001b[38;5;124m'\u001b[39m\u001b[38;5;124m'\u001b[39m\n\u001b[1;32m    419\u001b[0m     kwargs[\u001b[38;5;124m'\u001b[39m\u001b[38;5;124minput\u001b[39m\u001b[38;5;124m'\u001b[39m] \u001b[38;5;241m=\u001b[39m empty\n\u001b[0;32m--> 421\u001b[0m \u001b[38;5;28;01mreturn\u001b[39;00m \u001b[43mrun\u001b[49m\u001b[43m(\u001b[49m\u001b[38;5;241;43m*\u001b[39;49m\u001b[43mpopenargs\u001b[49m\u001b[43m,\u001b[49m\u001b[43m \u001b[49m\u001b[43mstdout\u001b[49m\u001b[38;5;241;43m=\u001b[39;49m\u001b[43mPIPE\u001b[49m\u001b[43m,\u001b[49m\u001b[43m \u001b[49m\u001b[43mtimeout\u001b[49m\u001b[38;5;241;43m=\u001b[39;49m\u001b[43mtimeout\u001b[49m\u001b[43m,\u001b[49m\u001b[43m \u001b[49m\u001b[43mcheck\u001b[49m\u001b[38;5;241;43m=\u001b[39;49m\u001b[38;5;28;43;01mTrue\u001b[39;49;00m\u001b[43m,\u001b[49m\n\u001b[1;32m    422\u001b[0m \u001b[43m           \u001b[49m\u001b[38;5;241;43m*\u001b[39;49m\u001b[38;5;241;43m*\u001b[39;49m\u001b[43mkwargs\u001b[49m\u001b[43m)\u001b[49m\u001b[38;5;241m.\u001b[39mstdout\n",
      "File \u001b[0;32m/usr/lib/python3.10/subprocess.py:526\u001b[0m, in \u001b[0;36mrun\u001b[0;34m(input, capture_output, timeout, check, *popenargs, **kwargs)\u001b[0m\n\u001b[1;32m    524\u001b[0m     retcode \u001b[38;5;241m=\u001b[39m process\u001b[38;5;241m.\u001b[39mpoll()\n\u001b[1;32m    525\u001b[0m     \u001b[38;5;28;01mif\u001b[39;00m check \u001b[38;5;129;01mand\u001b[39;00m retcode:\n\u001b[0;32m--> 526\u001b[0m         \u001b[38;5;28;01mraise\u001b[39;00m CalledProcessError(retcode, process\u001b[38;5;241m.\u001b[39margs,\n\u001b[1;32m    527\u001b[0m                                  output\u001b[38;5;241m=\u001b[39mstdout, stderr\u001b[38;5;241m=\u001b[39mstderr)\n\u001b[1;32m    528\u001b[0m \u001b[38;5;28;01mreturn\u001b[39;00m CompletedProcess(process\u001b[38;5;241m.\u001b[39margs, retcode, stdout, stderr)\n",
      "\u001b[0;31mCalledProcessError\u001b[0m: Command '['grep', 'Boschl.CG.Botznik2013.chr9.g50001', 'rootedTre_orthology1ToMany.txt']' returned non-zero exit status 1."
     ]
    }
   ],
   "source": [
    "dicrel=dicrelation(miniasci,filelist[0])"
   ]
  },
  {
   "cell_type": "code",
   "execution_count": 10,
   "metadata": {},
   "outputs": [],
   "source": [
    "def withhumanbis(Gene):   # Return True si le gene a un ortologue chez l'humain, False sinon \n",
    "    res=dicrel[Gene]\n",
    "    for i in res : \n",
    "        if i.split('|')[0]=='Hsap':\n",
    "            return True\n",
    "    return False\n",
    "\n",
    "#Resultats ttest H0 tps=sans grep ~ tpsbis = avec grep H1 tps significativement différent , T= 24.9, pvalue= 6e-63"
   ]
  },
  {
   "cell_type": "code",
   "execution_count": 11,
   "metadata": {},
   "outputs": [
    {
     "name": "stdout",
     "output_type": "stream",
     "text": [
      "4.696\n",
      "4445.28056\n"
     ]
    }
   ],
   "source": [
    "import sys \n",
    "# cout en memoire du dic actuelle et cout en memoire estimé du dic complet \n",
    "print(sys.getsizeof(dicrel)/1000) # en Ko\n",
    "print((len(ascilist)/len(dicrel)*sys.getsizeof(dicrel))/1000) # en Ko"
   ]
  },
  {
   "cell_type": "code",
   "execution_count": 165,
   "metadata": {},
   "outputs": [],
   "source": [
    "def gethumans(Gene,dicrel): \n",
    "    res=dicrel[Gene]\n",
    "    r=[]\n",
    "    for relation in res : \n",
    "        if relation.split('|')[0]=='Hsap':\n",
    "            r.append(relation)\n",
    "    return r\n"
   ]
  },
  {
   "cell_type": "code",
   "execution_count": 13,
   "metadata": {},
   "outputs": [],
   "source": [
    "vertnh=vert\n",
    "vertnh.remove('Hsap')"
   ]
  },
  {
   "cell_type": "code",
   "execution_count": 166,
   "metadata": {},
   "outputs": [],
   "source": [
    "def getvert(Gene,dicrel): \n",
    "    res=dicrel[Gene]\n",
    "    d={}\n",
    "    rel=[]\n",
    "    for relation in res : \n",
    "        if relation.split('|')[0] in vertnh:\n",
    "            rel.append(relation)\n",
    "    d[Gene]=rel\n",
    "    return d"
   ]
  },
  {
   "cell_type": "code",
   "execution_count": 162,
   "metadata": {},
   "outputs": [],
   "source": [
    "def writehuman(GeneList,dicrel): \n",
    "    os.chdir('../Outputs')\n",
    "    with open('human.txt','w') as f : \n",
    "        for g in GeneList : \n",
    "           if gethumans(g,dicrel)!=[]: \n",
    "                for rel in gethumans(g,dicrel): \n",
    "                    f.write(g+' '+rel)\n",
    "                    print(rel)\n",
    "                    try : \n",
    "                        res=formateout(rel.split('|')[0],rel.split('|')[1].split('.')[0])[rel.split('|')[1].split('.')[0]]\n",
    "                        for name in res.keys(): \n",
    "                              f.write('_Name::'+name)\n",
    "                              for synid in res[name].keys(): \n",
    "                                  print(synid)\n",
    "                                  f.write(';_Syn'+synid)\n",
    "                                  for syn in res[name][synid]: \n",
    "                                      f.write('::'+syn )\n",
    "                        f.write(\"\\n\")\n",
    "                    except subprocess.CalledProcessError :\n",
    "                        f.write('_Name::notFound'+\"\\n\") \n",
    "                        print('Warning '+rel.split('|')[1].split('.')[0]+' not found in '+rel.split('|')[0])\n",
    "    os.chdir('../OrthologyRelationships')"
   ]
  },
  {
   "cell_type": "code",
   "execution_count": 163,
   "metadata": {},
   "outputs": [],
   "source": [
    "def writevert(GeneList,dicrel): \n",
    "    os.chdir('../Outputs')\n",
    "    with open('vertnh.txt','w') as f : \n",
    "        for g in GeneList : \n",
    "            if getvert(g,dicrel)!=[]: \n",
    "                for rel in getvert(g,dicrel)[g]: \n",
    "                    f.write(g+' '+rel)\n",
    "                    print(rel)\n",
    "                    try : \n",
    "                        res=formateout(rel.split('|')[0],rel.split('|')[1].split('.')[0])[rel.split('|')[1].split('.')[0]]\n",
    "                        for name in res.keys(): \n",
    "                              f.write('_Name::'+name)\n",
    "                              for synid in res[name].keys(): \n",
    "                                  print(synid)\n",
    "                                  f.write(';_Syn'+synid)\n",
    "                                  for syn in res[name][synid]: \n",
    "                                      f.write('::'+syn )\n",
    "                        f.write(\"\\n\")\n",
    "                    except subprocess.CalledProcessError :\n",
    "                        f.write('_Name::notFound'+\"\\n\") \n",
    "                        print('Warning '+rel.split('|')[1].split('.')[0]+' not found in '+rel.split('|')[0])\n",
    "    os.chdir('../OrthologyRelationships')"
   ]
  },
  {
   "cell_type": "code",
   "execution_count": 157,
   "metadata": {},
   "outputs": [
    {
     "name": "stdout",
     "output_type": "stream",
     "text": [
      "Hsap|ENSG00000145041.15\n",
      ".17\n",
      "Hsap|ENSG00000173465.7\n",
      ".8\n",
      "Hsap|ENSG00000074201.8\n",
      ".9\n",
      "Hsap|ENSG00000099800.7\n",
      ".8\n",
      "Hsap|ENSG00000101843.18\n",
      ".19\n",
      "Hsap|ENSG00000213339.8\n",
      ".9\n",
      "Hsap|ENSG00000133104.12\n",
      ".14\n",
      "Hsap|ENSG00000007545.15\n",
      ".16\n",
      "Hsap|ENSG00000003056.7\n",
      ".8\n",
      "Hsap|ENSG00000165609.12\n",
      ".14\n",
      "Hsap|ENSG00000167088.10\n",
      ".11\n",
      "Hsap|ENSG00000132763.14\n",
      ".15\n",
      "Hsap|ENSG00000269964.2\n",
      ".4\n",
      "Hsap|ENSG00000099917.17\n",
      ".17\n",
      "Hsap|ENSG00000132554.19\n",
      ".21\n",
      "Hsap|ENSG00000106344.8\n",
      ".8\n",
      "Hsap|ENSG00000032389.12\n",
      ".13\n",
      "Hsap|ENSG00000049167.13\n",
      ".16\n",
      "Hsap|ENSG00000112379.8\n",
      ".9\n",
      "Hsap|ENSG00000164117.12\n",
      ".14\n",
      "Hsap|ENSG00000156414.18\n",
      ".20\n",
      "Hsap|ENSG00000156973.13\n",
      ".14\n",
      "Hsap|ENSG00000123219.12\n",
      ".13\n",
      "Hsap|ENSG00000162735.18\n",
      ".19\n",
      "Hsap|ENSG00000087087.18\n",
      ".20\n",
      "Hsap|ENSG00000116903.7\n",
      ".7\n",
      "Hsap|ENSG00000036672.15\n",
      ".16\n",
      "Hsap|ENSG00000225830.10\n",
      ".16\n"
     ]
    }
   ],
   "source": [
    "#dicrel=dicrelation(moyenasc,filelist[2])\n",
    "writehuman(miniasci)\n",
    "#writevert(miniasci)\n"
   ]
  },
  {
   "cell_type": "code",
   "execution_count": 13,
   "metadata": {},
   "outputs": [],
   "source": [
    "\n",
    "def findsymb(espece,assembl): \n",
    "    os.chdir('../Ensembl')\n",
    "    commande='grep '+assembl+' '+espece+'.csv'\n",
    "    res=subprocess.check_output(commande.split(' '))\n",
    "    os.chdir('../OrthologyRelationships')\n",
    "    return res.decode().split(\"\\n\")[:-1]   # dernière element à enlever car toujours un espaces blanc \n"
   ]
  },
  {
   "cell_type": "code",
   "execution_count": 94,
   "metadata": {},
   "outputs": [],
   "source": [
    "def formateout(espece,assembl): \n",
    "    dic={}\n",
    "    for res in findsymb(espece,assembl): \n",
    "        if res.split(',')[0] in dic.keys(): \n",
    "            if res.split(',')[3]=='': \n",
    "                new=['None']\n",
    "            else : \n",
    "                new=[res.split(',')[3]]\n",
    "                \n",
    "            if '.'+res.split(',')[1].split('.')[1] in sousdic[res.split(',')[2]].keys():\n",
    "                 sousdic[res.split(',')[2]]['.'+res.split(',')[1].split('.')[1]].append(new[0])\n",
    "            else : \n",
    "                sousdic[res.split(',')[2]]['.'+res.split(',')[1].split('.')[1]]=new\n",
    "        else : \n",
    "            sousdic={}\n",
    "            syn={}\n",
    "            if res.split(',')[3]=='': \n",
    "                syn['.'+res.split(',')[1].split('.')[1]]=['None']\n",
    "            else : \n",
    "                syn['.'+res.split(',')[1].split('.')[1]]=[res.split(',')[3]]\n",
    "            sousdic[res.split(',')[2]]=syn\n",
    "        dic[assembl]=sousdic\n",
    "    return dic"
   ]
  },
  {
   "cell_type": "code",
   "execution_count": 159,
   "metadata": {},
   "outputs": [],
   "source": [
    "def Nametunicates(file,limit): \n",
    "    ascs=getasc(file)[:limit]\n",
    "    drel=dicrelation(ascs,file)\n",
    "    writehuman(ascs,drel)\n",
    "    writevert(ascs,drel)\n",
    "    "
   ]
  },
  {
   "cell_type": "code",
   "execution_count": 58,
   "metadata": {},
   "outputs": [
    {
     "data": {
      "text/plain": [
       "['ENSGALG00010002543,ENSGALG00001002543.1,UCP3,UCP']"
      ]
     },
     "execution_count": 58,
     "metadata": {},
     "output_type": "execute_result"
    }
   ],
   "source": [
    "findsymb('Ggal','ENSGALG0000')"
   ]
  },
  {
   "cell_type": "code",
   "execution_count": 63,
   "metadata": {},
   "outputs": [
    {
     "ename": "CalledProcessError",
     "evalue": "Command '['grep', 'ENSGALG00000012073', '../Ensembl/Ggal.gff3']' returned non-zero exit status 1.",
     "output_type": "error",
     "traceback": [
      "\u001b[0;31m---------------------------------------------------------------------------\u001b[0m",
      "\u001b[0;31mCalledProcessError\u001b[0m                        Traceback (most recent call last)",
      "Cell \u001b[0;32mIn[63], line 14\u001b[0m\n\u001b[1;32m     11\u001b[0m             tab\u001b[38;5;241m.\u001b[39mappend(l)\n\u001b[1;32m     12\u001b[0m     \u001b[38;5;28;01mreturn\u001b[39;00m tab\n\u001b[0;32m---> 14\u001b[0m \u001b[43mPouletgrep\u001b[49m\u001b[43m(\u001b[49m\u001b[38;5;124;43m'\u001b[39;49m\u001b[38;5;124;43mGgal|ENSGALG00000012073\u001b[39;49m\u001b[38;5;124;43m'\u001b[39;49m\u001b[43m,\u001b[49m\u001b[38;5;124;43m'\u001b[39;49m\u001b[38;5;124;43m../Ensembl/Ggal.gff3\u001b[39;49m\u001b[38;5;124;43m'\u001b[39;49m\u001b[43m)\u001b[49m\n",
      "Cell \u001b[0;32mIn[63], line 4\u001b[0m, in \u001b[0;36mPouletgrep\u001b[0;34m(Gene, file)\u001b[0m\n\u001b[1;32m      2\u001b[0m commande\u001b[38;5;241m=\u001b[39m\u001b[38;5;124m'\u001b[39m\u001b[38;5;124mgrep \u001b[39m\u001b[38;5;124m'\u001b[39m\u001b[38;5;241m+\u001b[39mGene\u001b[38;5;241m.\u001b[39msplit(\u001b[38;5;124m'\u001b[39m\u001b[38;5;124m|\u001b[39m\u001b[38;5;124m'\u001b[39m)[\u001b[38;5;241m1\u001b[39m]\u001b[38;5;241m+\u001b[39m\u001b[38;5;124m'\u001b[39m\u001b[38;5;124m \u001b[39m\u001b[38;5;124m'\u001b[39m\u001b[38;5;241m+\u001b[39mfile\n\u001b[1;32m      3\u001b[0m \u001b[38;5;66;03m#print(commande)\u001b[39;00m\n\u001b[0;32m----> 4\u001b[0m res\u001b[38;5;241m=\u001b[39m\u001b[43msubprocess\u001b[49m\u001b[38;5;241;43m.\u001b[39;49m\u001b[43mcheck_output\u001b[49m\u001b[43m(\u001b[49m\u001b[43mcommande\u001b[49m\u001b[38;5;241;43m.\u001b[39;49m\u001b[43msplit\u001b[49m\u001b[43m(\u001b[49m\u001b[38;5;124;43m'\u001b[39;49m\u001b[38;5;124;43m \u001b[39;49m\u001b[38;5;124;43m'\u001b[39;49m\u001b[43m)\u001b[49m\u001b[43m)\u001b[49m\u001b[38;5;241m.\u001b[39mdecode()\u001b[38;5;241m.\u001b[39msplit(\u001b[38;5;124m\"\u001b[39m\u001b[38;5;130;01m\\n\u001b[39;00m\u001b[38;5;124m\"\u001b[39m)[:\u001b[38;5;241m-\u001b[39m\u001b[38;5;241m1\u001b[39m]\n\u001b[1;32m      5\u001b[0m tab\u001b[38;5;241m=\u001b[39m[]\n\u001b[1;32m      6\u001b[0m \u001b[38;5;28;01mfor\u001b[39;00m line \u001b[38;5;129;01min\u001b[39;00m res : \n",
      "File \u001b[0;32m/usr/lib/python3.10/subprocess.py:421\u001b[0m, in \u001b[0;36mcheck_output\u001b[0;34m(timeout, *popenargs, **kwargs)\u001b[0m\n\u001b[1;32m    418\u001b[0m         empty \u001b[38;5;241m=\u001b[39m \u001b[38;5;124mb\u001b[39m\u001b[38;5;124m'\u001b[39m\u001b[38;5;124m'\u001b[39m\n\u001b[1;32m    419\u001b[0m     kwargs[\u001b[38;5;124m'\u001b[39m\u001b[38;5;124minput\u001b[39m\u001b[38;5;124m'\u001b[39m] \u001b[38;5;241m=\u001b[39m empty\n\u001b[0;32m--> 421\u001b[0m \u001b[38;5;28;01mreturn\u001b[39;00m \u001b[43mrun\u001b[49m\u001b[43m(\u001b[49m\u001b[38;5;241;43m*\u001b[39;49m\u001b[43mpopenargs\u001b[49m\u001b[43m,\u001b[49m\u001b[43m \u001b[49m\u001b[43mstdout\u001b[49m\u001b[38;5;241;43m=\u001b[39;49m\u001b[43mPIPE\u001b[49m\u001b[43m,\u001b[49m\u001b[43m \u001b[49m\u001b[43mtimeout\u001b[49m\u001b[38;5;241;43m=\u001b[39;49m\u001b[43mtimeout\u001b[49m\u001b[43m,\u001b[49m\u001b[43m \u001b[49m\u001b[43mcheck\u001b[49m\u001b[38;5;241;43m=\u001b[39;49m\u001b[38;5;28;43;01mTrue\u001b[39;49;00m\u001b[43m,\u001b[49m\n\u001b[1;32m    422\u001b[0m \u001b[43m           \u001b[49m\u001b[38;5;241;43m*\u001b[39;49m\u001b[38;5;241;43m*\u001b[39;49m\u001b[43mkwargs\u001b[49m\u001b[43m)\u001b[49m\u001b[38;5;241m.\u001b[39mstdout\n",
      "File \u001b[0;32m/usr/lib/python3.10/subprocess.py:526\u001b[0m, in \u001b[0;36mrun\u001b[0;34m(input, capture_output, timeout, check, *popenargs, **kwargs)\u001b[0m\n\u001b[1;32m    524\u001b[0m     retcode \u001b[38;5;241m=\u001b[39m process\u001b[38;5;241m.\u001b[39mpoll()\n\u001b[1;32m    525\u001b[0m     \u001b[38;5;28;01mif\u001b[39;00m check \u001b[38;5;129;01mand\u001b[39;00m retcode:\n\u001b[0;32m--> 526\u001b[0m         \u001b[38;5;28;01mraise\u001b[39;00m CalledProcessError(retcode, process\u001b[38;5;241m.\u001b[39margs,\n\u001b[1;32m    527\u001b[0m                                  output\u001b[38;5;241m=\u001b[39mstdout, stderr\u001b[38;5;241m=\u001b[39mstderr)\n\u001b[1;32m    528\u001b[0m \u001b[38;5;28;01mreturn\u001b[39;00m CompletedProcess(process\u001b[38;5;241m.\u001b[39margs, retcode, stdout, stderr)\n",
      "\u001b[0;31mCalledProcessError\u001b[0m: Command '['grep', 'ENSGALG00000012073', '../Ensembl/Ggal.gff3']' returned non-zero exit status 1."
     ]
    }
   ],
   "source": [
    "\n",
    "def Pouletgrep(Gene,file): \n",
    "    commande='grep '+Gene.split('|')[1]+' '+file\n",
    "    #print(commande)\n",
    "    res=subprocess.check_output(commande.split(' ')).decode().split(\"\\n\")[:-1]\n",
    "    tab=[]\n",
    "    for line in res : \n",
    "        if line.split(\"ID=\")[1].split(':')[0]=='gene': \n",
    "            l=line.split(\"ID=gene:\")[1].split(';')[0]\n",
    "            l=l+','+line.split(\"ID=gene:\")[1].split(';')[0]+'.'+line.split(\"version=\")[1].split(';')[0]\n",
    "            l=l+','+line.split(\"Name=\")[1].split(';')[0]+','\n",
    "            tab.append(l)\n",
    "    return tab\n",
    "\n",
    "Pouletgrep('Ggal|ENSGALG0000002073','../Ensembl/Ggal.gff3')"
   ]
  },
  {
   "cell_type": "code",
   "execution_count": 67,
   "metadata": {},
   "outputs": [],
   "source": [
    "Ordervert=['Hsap','Mmus','Psin','Ggal','Lcha','Cmil']\n",
    "def hierarchise(file): \n",
    "    with open(file) as f, open('hier_'+file.split('/')[len(file.split('/'))-1],'w') as hier: \n",
    "        lines=f.readlines()\n",
    "        current=''\n",
    "        relist=[]\n",
    "        for line in lines: \n",
    "            if line.split(' ')[0]!=current : \n",
    "                current=line.split(' ')[0]\n",
    "                if len(relist)>=1 and relist[0]!=' ': \n",
    "                    k=0 \n",
    "                    stop=0\n",
    "                    while k<len(Ordervert) and stop==0: \n",
    "                        #print(relist)\n",
    "                        for rel in relist: \n",
    "                            if rel.split(' ')[1].split('|')[0]==Ordervert[k]: \n",
    "                                #print(rel)\n",
    "                                stop=1\n",
    "                                hier.write(rel)\n",
    "                        k+=1\n",
    "                relist=[]\n",
    "            relist.append(line)"
   ]
  },
  {
   "cell_type": "code",
   "execution_count": 70,
   "metadata": {},
   "outputs": [],
   "source": [
    "hierarchise('Outputs/manyToMany_all.txt')"
   ]
  },
  {
   "cell_type": "code",
   "execution_count": null,
   "metadata": {},
   "outputs": [],
   "source": []
  }
 ],
 "metadata": {
  "kernelspec": {
   "display_name": "Python 3",
   "language": "python",
   "name": "python3"
  },
  "language_info": {
   "codemirror_mode": {
    "name": "ipython",
    "version": 3
   },
   "file_extension": ".py",
   "mimetype": "text/x-python",
   "name": "python",
   "nbconvert_exporter": "python",
   "pygments_lexer": "ipython3",
   "version": "3.10.12"
  }
 },
 "nbformat": 4,
 "nbformat_minor": 2
}
