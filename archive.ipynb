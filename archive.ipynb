{
 "cells": [
  {
   "cell_type": "code",
   "execution_count": null,
   "metadata": {},
   "outputs": [],
   "source": [
    "# Contient les anciennes fonctions : \n",
    "\n",
    "# remplacé par plus efficaces ou juste par inutilié  "
   ]
  },
  {
   "cell_type": "code",
   "execution_count": null,
   "metadata": {},
   "outputs": [],
   "source": [
    "import os \n",
    "max=1\n",
    "filelist=[i for i in os.listdir()] # 0 1-ToMany  1 paralogy 2 1to1  3 ToMany\n",
    "with open (filelist[2]) as f : \n",
    "    \n",
    "    lines= f.readlines()\n",
    "    for line in lines : \n",
    "        if len(line.split(' '))!=2:   #toute les lignes se split bien en 2 par ' ' \n",
    "            print(line.split(' '))\n",
    "        if len(line.split(' ')[0].split('|'))!=2 or len(line.split(' ')[1].split('|'))!=2 : \n",
    "            print(line.split(' ')) # toute les lignes split bien après par | aprés le premier split \n",
    "        if max!=0: \n",
    "            print(line)  # exemple d'une ligne \n",
    "            max=max-1\n",
    "f.close()"
   ]
  },
  {
   "cell_type": "code",
   "execution_count": null,
   "metadata": {},
   "outputs": [],
   "source": [
    "def uniquespecies(file): \n",
    "    max=1\n",
    "    speciesList=[]\n",
    "    with open (file) as f : \n",
    "        lines= f.readlines()\n",
    "        for line in lines : \n",
    "            if not (line.split(' ')[0].split('|')[0] in speciesList): \n",
    "                speciesList.append(line.split(' ')[0].split('|')[0] in speciesList)\n",
    "            if not (line.split(' ')[1].split('|')[0] in speciesList): \n",
    "                speciesList.append(line.split(' ')[1].split('|')[0] in speciesList)\n",
    "    f.close()\n",
    "#uniquespecies(filelist[2])    ( PLUS JAMAIS )"
   ]
  },
  {
   "cell_type": "code",
   "execution_count": null,
   "metadata": {},
   "outputs": [],
   "source": [
    "def involvein(Gene,file):  # Gene tel que trouve dans un fichier retourne toute les lignes ou on trouve le gène en question \n",
    "    with open (file) as f : \n",
    "        relations=[]\n",
    "        lines= f.readlines()\n",
    "        for line in lines : \n",
    "                if line.split(' ')[0]==Gene or line.split(' ')[1].strip()==Gene : \n",
    "                    relations.append(line.strip())\n",
    "    f.close()\n",
    "    return relations"
   ]
  },
  {
   "cell_type": "code",
   "execution_count": null,
   "metadata": {},
   "outputs": [],
   "source": [
    "def relationwith(Gene, file): \n",
    "    print(Gene)\n",
    "    relations= involvein(Gene,file)\n",
    "    species=[]\n",
    "    for rel in relations: \n",
    "        for gene in rel.split(' '): \n",
    "            if gene!=Gene: \n",
    "                species.append(gene.split('|')[0])\n",
    "    return species"
   ]
  },
  {
   "cell_type": "code",
   "execution_count": null,
   "metadata": {},
   "outputs": [],
   "source": [
    "max=4\n",
    "with open (filelist[2]) as f : \n",
    "    lines= f.readlines()\n",
    "    for line in lines : \n",
    "        if max!=0: \n",
    "            Gene=line.split(' ')[0].strip()\n",
    "            max=max-1\n",
    "f.close()\n",
    "#r=involvein(Gene,filelist[2])\n",
    "#r=relationwith(Gene,filelist[2])"
   ]
  }
 ],
 "metadata": {
  "language_info": {
   "name": "python"
  }
 },
 "nbformat": 4,
 "nbformat_minor": 2
}
