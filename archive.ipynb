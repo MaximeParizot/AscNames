{
 "cells": [
  {
   "cell_type": "code",
   "execution_count": null,
   "metadata": {},
   "outputs": [],
   "source": [
    "# Contient les anciennes fonctions : \n",
    "\n",
    "# remplacé par plus efficaces ou juste plus besoin "
   ]
  },
  {
   "cell_type": "code",
   "execution_count": null,
   "metadata": {},
   "outputs": [],
   "source": [
    "import os \n",
    "max=1\n",
    "filelist=[i for i in os.listdir()] # 0 1-ToMany  1 paralogy 2 1to1  3 ToMany\n",
    "with open (filelist[2]) as f : \n",
    "    \n",
    "    lines= f.readlines()\n",
    "    for line in lines : \n",
    "        if len(line.split(' '))!=2:   #toute les lignes se split bien en 2 par ' ' \n",
    "            print(line.split(' '))\n",
    "        if len(line.split(' ')[0].split('|'))!=2 or len(line.split(' ')[1].split('|'))!=2 : \n",
    "            print(line.split(' ')) # toute les lignes split bien après par | aprés le premier split \n",
    "        if max!=0: \n",
    "            print(line)  # exemple d'une ligne \n",
    "            max=max-1\n",
    "f.close()"
   ]
  },
  {
   "cell_type": "code",
   "execution_count": null,
   "metadata": {},
   "outputs": [],
   "source": [
    "def uniquespecies(file): \n",
    "    max=1\n",
    "    speciesList=[]\n",
    "    with open (file) as f : \n",
    "        lines= f.readlines()\n",
    "        for line in lines : \n",
    "            if not (line.split(' ')[0].split('|')[0] in speciesList): \n",
    "                speciesList.append(line.split(' ')[0].split('|')[0] in speciesList)\n",
    "            if not (line.split(' ')[1].split('|')[0] in speciesList): \n",
    "                speciesList.append(line.split(' ')[1].split('|')[0] in speciesList)\n",
    "    f.close()\n",
    "#uniquespecies(filelist[2])    ( PLUS JAMAIS )"
   ]
  },
  {
   "cell_type": "code",
   "execution_count": null,
   "metadata": {},
   "outputs": [],
   "source": [
    "def involvein(Gene,file):  # Gene tel que trouve dans un fichier retourne toute les lignes ou on trouve le gène en question \n",
    "    with open (file) as f : \n",
    "        relations=[]\n",
    "        lines= f.readlines()\n",
    "        for line in lines : \n",
    "                if line.split(' ')[0]==Gene or line.split(' ')[1].strip()==Gene : \n",
    "                    relations.append(line.strip())\n",
    "    f.close()\n",
    "    return relations"
   ]
  },
  {
   "cell_type": "code",
   "execution_count": null,
   "metadata": {},
   "outputs": [],
   "source": [
    "def relationwith(Gene, file): \n",
    "    print(Gene)\n",
    "    relations= involvein(Gene,file)\n",
    "    species=[]\n",
    "    for rel in relations: \n",
    "        for gene in rel.split(' '): \n",
    "            if gene!=Gene: \n",
    "                species.append(gene.split('|')[0])\n",
    "    return species"
   ]
  },
  {
   "cell_type": "code",
   "execution_count": null,
   "metadata": {},
   "outputs": [],
   "source": [
    "max=4\n",
    "with open (filelist[2]) as f : \n",
    "    lines= f.readlines()\n",
    "    for line in lines : \n",
    "        if max!=0: \n",
    "            Gene=line.split(' ')[0].strip()\n",
    "            max=max-1\n",
    "f.close()\n",
    "#r=involvein(Gene,filelist[2])\n",
    "#r=relationwith(Gene,filelist[2])"
   ]
  },
  {
   "cell_type": "code",
   "execution_count": null,
   "metadata": {},
   "outputs": [],
   "source": [
    "def withhuman(Gene,file): \n",
    "    with open (file,'r') as f : \n",
    "        for line in f : \n",
    "                if line.split(' ')[0]==Gene or line.split(' ')[1].strip()==Gene : \n",
    "                     if line.split(' ')[0].split('|')[0]=='Hsap' or line.split(' ')[1].strip().split('|')[0]=='Hsap':\n",
    "                        return True\n",
    "    f.close()\n",
    "    return False"
   ]
  },
  {
   "cell_type": "code",
   "execution_count": null,
   "metadata": {},
   "outputs": [],
   "source": [
    "#len(ascilist)/len(miniasci)*50/60/60  #temps estimer en heures"
   ]
  },
  {
   "cell_type": "code",
   "execution_count": null,
   "metadata": {},
   "outputs": [],
   "source": [
    "# Pour le ttest : \n",
    "import subprocess\n",
    "def grep(Gene,file): \n",
    "    commande='grep '+Gene.split('|')[1]+' '+file\n",
    "    #print(commande)\n",
    "    res=subprocess.check_output(commande.split(' '))\n",
    "    return res.decode().replace(\"\\n\",' ').split(' ')[:-1]   # dernière element à enlever car toujours un espaces blanc "
   ]
  },
  {
   "cell_type": "code",
   "execution_count": null,
   "metadata": {},
   "outputs": [],
   "source": [
    "def withhuman(Gene,file):   # Return True si le gene a un ortologue chez l'humain, False sinon \n",
    "    res=grep(Gene,file)\n",
    "    for i in res : \n",
    "        if i.split('|')[0]=='Hsap':\n",
    "            return True\n",
    "    return False"
   ]
  },
  {
   "cell_type": "code",
   "execution_count": null,
   "metadata": {},
   "outputs": [],
   "source": [
    "def withhumanbis(Gene):   # Return True si le gene a un ortologue chez l'humain, False sinon \n",
    "    res=dic[Gene]\n",
    "    for i in res : \n",
    "        if i.split('|')[0]=='Hsap':\n",
    "            return True\n",
    "    return False\n"
   ]
  },
  {
   "cell_type": "code",
   "execution_count": null,
   "metadata": {},
   "outputs": [],
   "source": [
    "import time \n",
    "tps=[]\n",
    "for g in miniasci: \n",
    "    a=time.time()\n",
    "    withhuman(g,filelist[2])\n",
    "    tps.append(time.time()-a)\n",
    "\n",
    "tpsbis=[]\n",
    "for g in miniasci: \n",
    "    a=time.time()\n",
    "    l=list(set(grep(g,filelist[2])))\n",
    "    l.remove(g)\n",
    "    dic[g]=l\n",
    "    withhumanbis(g)\n",
    "    tpsbis.append(time.time()-a)"
   ]
  },
  {
   "cell_type": "code",
   "execution_count": null,
   "metadata": {},
   "outputs": [],
   "source": [
    "from scipy.stats import ttest_ind as ttest\n",
    "ttest(tps,tpsbis)"
   ]
  },
  {
   "cell_type": "code",
   "execution_count": null,
   "metadata": {},
   "outputs": [],
   "source": []
  },
  {
   "cell_type": "code",
   "execution_count": null,
   "metadata": {},
   "outputs": [],
   "source": [
    "def writevert(GeneList): \n",
    "    os.chdir('../Outputs')\n",
    "    with open('vertnh.txt','w') as f : \n",
    "        for g in GeneList : \n",
    "            if getvert(g)!=[]: \n",
    "                for rel in getvert(g)[g]: \n",
    "                    f.write(g+' '+rel)\n",
    "                    try : \n",
    "                        for res in findsymb(rel.split('|')[0],rel.split('|')[1].split('.')[0]):\n",
    "                            f.write('_Name::'+res.split(',')[2]+'_Syn'+'.'+res.split(',')[1].split('.')[1]+'::')\n",
    "                            if res.split(',')[3]=='': \n",
    "                                f.write(res.split(',')[3].replace('','None'))\n",
    "                            else : \n",
    "                                f.write(res.split(',')[3])\n",
    "                        f.write(\"\\n\")\n",
    "                    except subprocess.CalledProcessError :\n",
    "                        f.write('_Name::notFound'+\"\\n\") \n",
    "                        print('Warning '+rel.split('|')[1].split('.')[0]+' not found in '+rel.split('|')[0])\n",
    "    os.chdir('../OrthologyRelationships')"
   ]
  }
 ],
 "metadata": {
  "language_info": {
   "name": "python"
  }
 },
 "nbformat": 4,
 "nbformat_minor": 2
}
